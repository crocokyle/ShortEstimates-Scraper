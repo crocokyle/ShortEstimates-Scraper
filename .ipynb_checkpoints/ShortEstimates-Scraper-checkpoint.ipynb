{
 "cells": [
  {
   "cell_type": "code",
   "execution_count": null,
   "id": "further-arizona",
   "metadata": {},
   "outputs": [],
   "source": [
    "import requests as r\n",
    "import re\n",
    "from bs4 import BeautifulSoup\n",
    "import time\n",
    "from IPython.display import HTML, display, clear_output"
   ]
  },
  {
   "cell_type": "code",
   "execution_count": null,
   "id": "spoken-liver",
   "metadata": {},
   "outputs": [],
   "source": [
    "# Symbol List (For expansion later if we want to run multiple symbols)\n",
    "symbols = ['GME', 'AMC']"
   ]
  },
  {
   "cell_type": "code",
   "execution_count": null,
   "id": "entire-maximum",
   "metadata": {},
   "outputs": [],
   "source": [
    "# Secrets\n",
    "ortex_username = 'EMAIL'\n",
    "ortex_password = 'PASSWORD'"
   ]
  },
  {
   "cell_type": "code",
   "execution_count": null,
   "id": "meaning-cycle",
   "metadata": {},
   "outputs": [],
   "source": [
    "#URL Source list\n",
    "finviz_url = 'https://finviz.com/quote.ashx?t=GME#statements'\n",
    "marketwatch_url = 'https://www.marketwatch.com/investing/stock/gme?mod=mw_quote_tab'\n",
    "ortex_url = 'https://www.ortex.com/symbol/NYSE/GME/short_interest'\n",
    "headers = {'User-Agent': 'Mozilla/5.0 (Windows NT 10.0; WOW64) AppleWebKit/537.36 (KHTML, like Gecko) Chrome/67.0.3396.87 Safari/537.36'}"
   ]
  },
  {
   "cell_type": "code",
   "execution_count": null,
   "id": "selected-homeless",
   "metadata": {},
   "outputs": [],
   "source": [
    "def getOrtexShort():\n",
    "    with r.Session() as s:\n",
    "        initial_get = s.get('https://www.ortex.com/accounts/login', headers=headers)\n",
    "        cookie = initial_get.cookies['csrftoken']\n",
    "        payload = {'username': ortex_username, 'password': ortex_password, 'csrfmiddlewaretoken': cookie}\n",
    "        post_headers = {'Referer': 'https://www.ortex.com/accounts/login'}\n",
    "        p = s.post('https://www.ortex.com/accounts/login', data=payload, headers=post_headers)\n",
    "        res = s.get(ortex_url).text\n",
    "        \n",
    "        bs = BeautifulSoup(res, 'html.parser')       \n",
    "        rowList = bs.body.findAll('tr', id=re.compile('listRow.*'))\n",
    "        \n",
    "        latestRow = rowList[-1].contents\n",
    "        releaseDate = latestRow[1].contents[0].contents[0]\n",
    "        ShsFloat = str(latestRow[2].contents[0][:-1]) + \"M\"\n",
    "        ShortFloat = str(latestRow[3].contents[0]) + \"%\"\n",
    "        \n",
    "    return releaseDate, ShsFloat, ShortFloat"
   ]
  },
  {
   "cell_type": "code",
   "execution_count": null,
   "id": "collective-island",
   "metadata": {},
   "outputs": [],
   "source": [
    "def getFreeBees():\n",
    "    finvizWebPage = r.get(finviz_url, headers=headers).text\n",
    "    marketwatchWebPage = r.get(marketwatch_url, headers=headers).text\n",
    "\n",
    "    finvizSoup = BeautifulSoup(finvizWebPage, 'html.parser')\n",
    "    marketwatchSoup = BeautifulSoup(marketwatchWebPage, 'html.parser')\n",
    "\n",
    "    fv_ShsFloat = finvizSoup.body.find(text='Shs Float').next_element.contents[0].contents[0]\n",
    "    fv_ShortFloat = finvizSoup.body.find(text='Short Float').next_element.contents[0].contents[0].contents[0]\n",
    "\n",
    "    mw_ShsFloat = marketwatchSoup.body.find(text='Public Float').next_element.next_element.contents[0]\n",
    "    mw_ShortFloat = marketwatchSoup.body.find(text='% of Float Shorted').next_element.next_element.contents[0]\n",
    "\n",
    "    return fv_ShsFloat, fv_ShortFloat, mw_ShsFloat, mw_ShortFloat\n",
    "    "
   ]
  },
  {
   "cell_type": "code",
   "execution_count": null,
   "id": "swiss-andrew",
   "metadata": {},
   "outputs": [],
   "source": [
    "def getUpdates(interval):\n",
    "    while True:\n",
    "        start = time.time()\n",
    "        fv_ShsFloat, fv_ShortFloat, mw_ShsFloat, mw_ShortFloat = getFreeBees()\n",
    "        ortex_releaseDate, ortex_ShsFloat, ortex_ShortFloat = getOrtexShort()\n",
    "        end = time.time()\n",
    "        elapsed = end-start\n",
    "        print(\"Finvis.com Results:\")\n",
    "        print(fv_ShsFloat)\n",
    "        print(fv_ShortFloat)\n",
    "\n",
    "        print(\"_________________________________________\")\n",
    "\n",
    "        print(\"marketwatch.com Results:\")\n",
    "        print(mw_ShsFloat)\n",
    "        print(mw_ShortFloat)\n",
    "\n",
    "        print(\"_________________________________________\")\n",
    "\n",
    "        print(\"ortex.com Results:\")\n",
    "        print(ortex_releaseDate)\n",
    "        print(ortex_ShsFloat)\n",
    "        print(ortex_ShortFloat)\n",
    "        print('Results in:', elapsed, 'seconds')\n",
    "        if (interval-elapsed > 0):\n",
    "            time.sleep(interval-elapsed)\n",
    "        clear_output(wait=True)\n"
   ]
  },
  {
   "cell_type": "code",
   "execution_count": null,
   "id": "gross-noise",
   "metadata": {},
   "outputs": [],
   "source": [
    "getUpdates(10) # Number of seconds between requests"
   ]
  },
  {
   "cell_type": "code",
   "execution_count": null,
   "id": "fallen-lemon",
   "metadata": {},
   "outputs": [],
   "source": []
  }
 ],
 "metadata": {
  "kernelspec": {
   "display_name": "Python 3",
   "language": "python",
   "name": "python3"
  },
  "language_info": {
   "codemirror_mode": {
    "name": "ipython",
    "version": 3
   },
   "file_extension": ".py",
   "mimetype": "text/x-python",
   "name": "python",
   "nbconvert_exporter": "python",
   "pygments_lexer": "ipython3",
   "version": "3.8.5"
  }
 },
 "nbformat": 4,
 "nbformat_minor": 5
}
